{
  "nbformat": 4,
  "nbformat_minor": 0,
  "metadata": {
    "colab": {
      "provenance": [],
      "authorship_tag": "ABX9TyM5ueuHZQCBrtOdPZVHX4dv",
      "include_colab_link": true
    },
    "kernelspec": {
      "name": "python3",
      "display_name": "Python 3"
    },
    "language_info": {
      "name": "python"
    }
  },
  "cells": [
    {
      "cell_type": "markdown",
      "metadata": {
        "id": "view-in-github",
        "colab_type": "text"
      },
      "source": [
        "<a href=\"https://colab.research.google.com/github/AntonioMendoza13/Inteligencia-artificial/blob/main/EjercicioPython_1.ipynb\" target=\"_parent\"><img src=\"https://colab.research.google.com/assets/colab-badge.svg\" alt=\"Open In Colab\"/></a>"
      ]
    },
    {
      "cell_type": "markdown",
      "source": [
        "Actividad 2: Diseño de algoritmos en Python, Pedro Antonio Mendoza Rivera 2008344, N1 Gpo:007"
      ],
      "metadata": {
        "id": "_iYAUEmXSKwm"
      }
    },
    {
      "cell_type": "markdown",
      "source": [
        "Objetivo: Familiarizarse con el lenguaje de programación Python y recordar conceptos de lógica de programación en general. Conocer la interfaz y funcionamiento de Google Colab."
      ],
      "metadata": {
        "id": "6JOZoBj92ekA"
      }
    },
    {
      "cell_type": "markdown",
      "source": [
        "Programa 1: Desarrolla un algoritmo que le pida al usuario por su nombre y que lo salude con su nombre, excepto si se llama “Ana”, “Juan”, y “Pedro”."
      ],
      "metadata": {
        "id": "8GnergL9Ste4"
      }
    },
    {
      "cell_type": "code",
      "execution_count": 29,
      "metadata": {
        "colab": {
          "base_uri": "https://localhost:8080/"
        },
        "id": "U3MrK3pBSIcF",
        "outputId": "3200af7f-f0b1-4607-8312-bca8d3817b8d"
      },
      "outputs": [
        {
          "output_type": "stream",
          "name": "stdout",
          "text": [
            "¿Cuál es tu nombre?Jorge\n",
            "Hola Jorge, Buenos dias\n"
          ]
        }
      ],
      "source": [
        "#Programa 1 Ejemplo con if\n",
        "def saludo():\n",
        "  nombre= input(\"¿Cuál es tu nombre?\")\n",
        "  if nombre in [\"Ana\",\"ana\",\"Pedro\",\"pedro\",\"juan\",\"Juan\"]:\n",
        "      print(\"No puedo saludarte\")\n",
        "  else:\n",
        "      print(f\"Hola {nombre}, Buenos dias\")\n",
        "\n",
        "saludo()"
      ]
    },
    {
      "cell_type": "code",
      "source": [
        "#Programa 1 ejemplo con while\n",
        "def saludo():\n",
        "  nombre=input(\"¿Cuál es tu nombre?: \")\n",
        "  no_saluda=[\"Ana\",\"ana\",\"pedro\",\"Pedro\",\"Juan\",\"juan\"]\n",
        "  while nombre in no_saluda:\n",
        "    print(\"No eres bienvenido\")\n",
        "    nombre=input(\"¿Cuál es tu nombre?: \")\n",
        "  print(f\"Hola {nombre}, Buenos dias\")\n",
        "saludo()"
      ],
      "metadata": {
        "colab": {
          "base_uri": "https://localhost:8080/"
        },
        "id": "aoAFFcMGfB7d",
        "outputId": "6750bb9a-e3bd-41b3-a71f-bfc61c00eff6"
      },
      "execution_count": 31,
      "outputs": [
        {
          "output_type": "stream",
          "name": "stdout",
          "text": [
            "¿Cuál es tu nombre?: juan\n",
            "No eres bienvenido\n",
            "¿Cuál es tu nombre?: pedro\n",
            "No eres bienvenido\n",
            "¿Cuál es tu nombre?: jorge\n",
            "Hola jorge, Buenos dias\n"
          ]
        }
      ]
    },
    {
      "cell_type": "markdown",
      "source": [
        "Programa 2: Desarrolla un algoritmo que por medio de una función, le pida al usuario una lista de N elementos y como resultado invierta el sentido de la lista."
      ],
      "metadata": {
        "id": "2fWT2GLPVmJi"
      }
    },
    {
      "cell_type": "code",
      "source": [
        "#Programa 2\n",
        "def listainvert():\n",
        "  lista= input(\"Ingrese elementos a la lista \")\n",
        "  lista_invertida = lista[::-1]\n",
        "  print(\"Lista\", lista)\n",
        "  print(\"Lista invertida\", lista_invertida)\n",
        "\n",
        "listainvert()"
      ],
      "metadata": {
        "colab": {
          "base_uri": "https://localhost:8080/"
        },
        "id": "KYo60RU0VlnU",
        "outputId": "2b7a6e82-f441-4d6a-a33d-448ec3a679e4"
      },
      "execution_count": 10,
      "outputs": [
        {
          "output_type": "stream",
          "name": "stdout",
          "text": [
            "Ingrese elementos a la lista 1 2 3 4 5 6 7\n",
            "Lista 1 2 3 4 5 6 7\n",
            "Lista invertida 7 6 5 4 3 2 1\n"
          ]
        }
      ]
    },
    {
      "cell_type": "markdown",
      "source": [
        "Programa 3: Desarrolla un algoritmo que le pregunte al usuario cuántos números de la serie de Fibonacci quiere generar y que al final los imprima."
      ],
      "metadata": {
        "id": "vIEb6TtLXh_b"
      }
    },
    {
      "cell_type": "code",
      "source": [
        "#Programa 3\n",
        "def fibonacci(n):\n",
        "  fib_serie =[0,1]\n",
        "  for x in range(2,n):\n",
        "    fib_serie.append(fib_serie[-1]+fib_serie[-2])\n",
        "  return fib_serie\n",
        "def Inicio():\n",
        "  n=int(input(\"Ingrese la cantidad de numeros de la serie de Fibonacci: \"))\n",
        "  fibonacci_serie=fibonacci(n)\n",
        "  print(f\"La cantidad de numeros es {n} de la serie {fibonacci_serie}\")\n",
        "Inicio()\n"
      ],
      "metadata": {
        "colab": {
          "base_uri": "https://localhost:8080/"
        },
        "id": "ov1gh39vY6Ez",
        "outputId": "6c526c42-57d1-4f07-8a9e-036b7ac1aaa8"
      },
      "execution_count": 12,
      "outputs": [
        {
          "output_type": "stream",
          "name": "stdout",
          "text": [
            "Ingrese la cantidad de numeros de la serie de Fibonacci: 6\n",
            "La cantidad de numeros es 6 de la serie [0, 1, 1, 2, 3, 5]\n"
          ]
        }
      ]
    },
    {
      "cell_type": "markdown",
      "source": [
        "Programa 4: Juego de adivinar el número: Crea un programa que genere un número aleatorio entre 1 y 100, y luego le pida al usuario que adivine el número. El programa debe proporcionar pistas al usuario si el número es mayor o menor que el número objetivo, y seguir solicitando un nuevo intento hasta que el usuario adivine correctamente."
      ],
      "metadata": {
        "id": "10PZKtRAf8LW"
      }
    },
    {
      "cell_type": "code",
      "source": [
        "#Programa 4\n",
        "import random\n",
        "def juego_de_adivindar():\n",
        "  numsecreto= random.randrange(1,100)\n",
        "  intentos=0\n",
        "  print(\"Bienvenido al juego\")\n",
        "  print(\"Adivina el número secreto entre 1 y 100\")\n",
        "  while True:\n",
        "    intento=int(input(\"Elige un número: \"))\n",
        "    intentos += 1\n",
        "    if intento<numsecreto:\n",
        "      print(\"El número es mayor, vuelve a intentarlo\")\n",
        "    elif intento>numsecreto:\n",
        "      print(\"El número es menor, vuelve a intentarlo\")\n",
        "    else:\n",
        "      print(f\"Haz adivinado el número secreto {numsecreto} en {intentos} intentos\")\n",
        "      break\n",
        "juego_de_adivindar()"
      ],
      "metadata": {
        "colab": {
          "base_uri": "https://localhost:8080/"
        },
        "id": "tfHt1RdBmcuE",
        "outputId": "355286bc-1884-459e-dda2-916b95c9064e"
      },
      "execution_count": 37,
      "outputs": [
        {
          "output_type": "stream",
          "name": "stdout",
          "text": [
            "Bienvenido al juego\n",
            "Adivina el número secreto entre 1 y 100\n",
            "Elige un número: 4\n",
            "El número es mayor, vuelve a intentarlo\n",
            "Elige un número: 5\n",
            "El número es mayor, vuelve a intentarlo\n",
            "Elige un número: 45\n",
            "El número es menor, vuelve a intentarlo\n",
            "Elige un número: 34\n",
            "El número es menor, vuelve a intentarlo\n",
            "Elige un número: 23\n",
            "El número es menor, vuelve a intentarlo\n",
            "Elige un número: 22\n",
            "El número es menor, vuelve a intentarlo\n",
            "Elige un número: 21\n",
            "El número es menor, vuelve a intentarlo\n",
            "Elige un número: 15\n",
            "El número es menor, vuelve a intentarlo\n",
            "Elige un número: 12\n",
            "El número es mayor, vuelve a intentarlo\n",
            "Elige un número: 14\n",
            "Haz adivinado el número secreto 14 en 10 intentos\n"
          ]
        }
      ]
    },
    {
      "cell_type": "markdown",
      "source": [
        "Programa 5: Ejercicio de cálculo de números primos en un rango dado: Escribe un programa que solicite al usuario un rango de números y muestre todos los números primos dentro de ese rango"
      ],
      "metadata": {
        "id": "kj_reGunoR-F"
      }
    },
    {
      "cell_type": "code",
      "source": [
        "#Programa 5\n",
        "def numprimo(numero):\n",
        "  if numero<2:\n",
        "    return False\n",
        "  for x in range(2,int(numero**0.5)+1):\n",
        "    if numero % x ==0:\n",
        "      return False\n",
        "  return True\n",
        "def rango_numprimo(inicio,fin):\n",
        "  primos=[]\n",
        "  for num in range(inicio, fin +1):\n",
        "    if numprimo(num):\n",
        "      primos.append(num)\n",
        "  return primos\n",
        "inicio=int(input(\"Ingresa el inicio del rango: \"))\n",
        "fin=int(input(\"Ingresa el final del rango: \"))\n",
        "\n",
        "print(f\"Los numeros primos que eestan dentro del rango de {inicio} a {fin}son: \")\n",
        "print(rango_numprimo(inicio,fin))\n"
      ],
      "metadata": {
        "colab": {
          "base_uri": "https://localhost:8080/"
        },
        "id": "JQbzVaqqpemT",
        "outputId": "3940e43b-2a3a-44b5-e1bf-54e39b4e79a1"
      },
      "execution_count": 36,
      "outputs": [
        {
          "output_type": "stream",
          "name": "stdout",
          "text": [
            "Ingresa el inicio del rango: 2\n",
            "Ingresa el final del rango: 67\n",
            "Los numeros primos que eestan dentro del rango de 2 a 67son: \n",
            "[2, 3, 5, 7, 11, 13, 17, 19, 23, 29, 31, 37, 41, 43, 47, 53, 59, 61, 67]\n"
          ]
        }
      ]
    },
    {
      "cell_type": "markdown",
      "source": [
        "Programa 6: Ejercicio de implementación de una calculadora básica utilizando funciones: Escribe un programa que solicite al usuario dos números y realice operaciones básicas como suma, resta, multiplicación y división utilizando funciones separadas para cada operación."
      ],
      "metadata": {
        "id": "nAw_p_GTtR9Q"
      }
    },
    {
      "cell_type": "code",
      "source": [
        "#Programa 6\n",
        "def suma(a,b):\n",
        "  return a+b\n",
        "def resta(a,b):\n",
        "  return a-b\n",
        "def multiplicacion(a,b):\n",
        "  return a*b\n",
        "def division(a,b):\n",
        "  if b==0:\n",
        "    return\n",
        "  return a/b\n",
        "\n",
        "num1=float(input(\"Ingrese el primer numero: \"))\n",
        "num2=float(input(\"Ingrese el segundo numero: \"))\n",
        "\n",
        "def calculadora(a,b):\n",
        "  print(\"Suma:\", suma(a, b))\n",
        "  print(\"Resta:\", resta(a, b))\n",
        "  print(\"Multiplicación:\", multiplicacion(a, b))\n",
        "  print(\"División:\", division(a, b))\n",
        "\n",
        "calculadora(num1,num2)"
      ],
      "metadata": {
        "colab": {
          "base_uri": "https://localhost:8080/"
        },
        "id": "Q0hE9ET7yx-M",
        "outputId": "a2578573-3ce8-4220-ca89-e9cb50b46856"
      },
      "execution_count": 39,
      "outputs": [
        {
          "output_type": "stream",
          "name": "stdout",
          "text": [
            "Ingrese el primer numero: 100\n",
            "Ingrese el segundo numero: 50\n",
            "Suma: 150.0\n",
            "Resta: 50.0\n",
            "Multiplicación: 5000.0\n",
            "División: 2.0\n"
          ]
        }
      ]
    }
  ]
}